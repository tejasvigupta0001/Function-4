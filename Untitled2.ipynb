{
  "nbformat": 4,
  "nbformat_minor": 0,
  "metadata": {
    "colab": {
      "provenance": []
    },
    "kernelspec": {
      "name": "python3",
      "display_name": "Python 3"
    },
    "language_info": {
      "name": "python"
    }
  },
  "cells": [
    {
      "cell_type": "markdown",
      "source": [
        "**Functions Assignement **"
      ],
      "metadata": {
        "id": "qqT5TMMowQae"
      }
    },
    {
      "cell_type": "markdown",
      "source": [
        "**Practical Answers**"
      ],
      "metadata": {
        "id": "N8bhK3i8wa8L"
      }
    },
    {
      "cell_type": "code",
      "execution_count": 23,
      "metadata": {
        "colab": {
          "base_uri": "https://localhost:8080/",
          "height": 35
        },
        "id": "PTs7vgM6vOqs",
        "outputId": "a5d4ed4c-7622-4666-8149-9ca924080a64"
      },
      "outputs": [
        {
          "output_type": "execute_result",
          "data": {
            "text/plain": [
              "'\\ndef sum_even_numbers(numbers):\\nsum = 0\\nfor num in numbers:\\nif num % 2 == 0:\\nsum += num\\nreturn sum\\n'"
            ],
            "application/vnd.google.colaboratory.intrinsic+json": {
              "type": "string"
            }
          },
          "metadata": {},
          "execution_count": 23
        }
      ],
      "source": [
        "# 1. Write a Python function that takes a list of numbers as input and returns the sum of all even numbers in the list.\n",
        "\n",
        "\"\"\"\n",
        "def sum_even_numbers(numbers):\n",
        "sum = 0\n",
        "for num in numbers:\n",
        "if num % 2 == 0:\n",
        "sum += num\n",
        "return sum\n",
        "\"\"\"\n"
      ]
    },
    {
      "cell_type": "code",
      "source": [
        "\n",
        "# 2.  Create a Python function that accepts a string and returns the reverse of that string.\n",
        "\"\"\"\n",
        "def reverse_string(string):\n",
        "return string[::-1]\n",
        "\"\"\""
      ],
      "metadata": {
        "colab": {
          "base_uri": "https://localhost:8080/",
          "height": 35
        },
        "id": "ruxfajxbvmhv",
        "outputId": "a91b0158-138d-4391-82ea-a422bfb25f5b"
      },
      "execution_count": 24,
      "outputs": [
        {
          "output_type": "execute_result",
          "data": {
            "text/plain": [
              "'\\ndef reverse_string(string):\\nreturn string[::-1]\\n'"
            ],
            "application/vnd.google.colaboratory.intrinsic+json": {
              "type": "string"
            }
          },
          "metadata": {},
          "execution_count": 24
        }
      ]
    },
    {
      "cell_type": "code",
      "source": [
        "# 3. Implement a Python function that takes a list of integers and returns a new list containing the squares of each number.\n",
        "\"\"\"\n",
        "def square_numbers(numbers):\n",
        "squares = []\n",
        "for num in numbers:\n",
        "squares.append(num ** 2)\n",
        "return squares\n",
        "\"\"\"\n",
        "\n"
      ],
      "metadata": {
        "colab": {
          "base_uri": "https://localhost:8080/",
          "height": 35
        },
        "id": "Ap1XMVTv1C-W",
        "outputId": "75fd751a-a7ff-4aec-a44b-e96835eaf9f4"
      },
      "execution_count": 25,
      "outputs": [
        {
          "output_type": "execute_result",
          "data": {
            "text/plain": [
              "'\\ndef square_numbers(numbers):\\nsquares = []\\nfor num in numbers:\\nsquares.append(num ** 2)\\nreturn squares\\n'"
            ],
            "application/vnd.google.colaboratory.intrinsic+json": {
              "type": "string"
            }
          },
          "metadata": {},
          "execution_count": 25
        }
      ]
    },
    {
      "cell_type": "code",
      "source": [
        "# 4. Write a Python function that checks if a given number is prime or not from 1 to 200.\n",
        "\"\"\"\n",
        "def is_prime(n):\n",
        "    if n < 2:\n",
        "        return False\n",
        "    for i in range(2, int(n**0.5) + 1):\n",
        "        if n % i == 0:\n",
        "            return False\n",
        "    return True\n",
        "\n",
        "primes = [x for x in range(1, 201) if is_prime(x)]\n",
        "print(primes)\n",
        "\"\"\""
      ],
      "metadata": {
        "colab": {
          "base_uri": "https://localhost:8080/",
          "height": 53
        },
        "id": "fWqrbUOa2tIA",
        "outputId": "d98ae1d7-b201-4e7d-a99c-96748e99925c"
      },
      "execution_count": 26,
      "outputs": [
        {
          "output_type": "execute_result",
          "data": {
            "text/plain": [
              "'\\ndef is_prime(n):\\n    if n < 2:\\n        return False\\n    for i in range(2, int(n**0.5) + 1):\\n        if n % i == 0:\\n            return False\\n    return True\\n\\nprimes = [x for x in range(1, 201) if is_prime(x)]\\nprint(primes)\\n'"
            ],
            "application/vnd.google.colaboratory.intrinsic+json": {
              "type": "string"
            }
          },
          "metadata": {},
          "execution_count": 26
        }
      ]
    },
    {
      "cell_type": "code",
      "source": [
        "# 5. Create an iterator class in Python that generates the Fibonacci sequence up to a specified number of terms.\n",
        "\"\"\"\n",
        "class FibonacciIterator:\n",
        "   def __init__(self, n):\n",
        "        self.n, self.a, self.b = n, 0, 1\n",
        "\n",
        "    def __iter__(self):\n",
        "        return self\n",
        "\n",
        "    def __next__(self):\n",
        "        if self.n <= 0:\n",
        "            raise StopIteration\n",
        "        self.n -= 1\n",
        "        self.a, self.b = self.b, self.a + self.b\n",
        "        return self.a\n",
        "\n",
        "fib = Fibonacci(10)\n",
        "print(list(fib))\n",
        "\"\"\"\n"
      ],
      "metadata": {
        "colab": {
          "base_uri": "https://localhost:8080/",
          "height": 70
        },
        "id": "WfgO8kjx2-r6",
        "outputId": "a8caed4f-825d-468e-a49f-a863446e658d"
      },
      "execution_count": 27,
      "outputs": [
        {
          "output_type": "execute_result",
          "data": {
            "text/plain": [
              "'\\nclass FibonacciIterator:\\n   def __init__(self, n):\\n        self.n, self.a, self.b = n, 0, 1\\n\\n    def __iter__(self):\\n        return self\\n\\n    def __next__(self):\\n        if self.n <= 0:\\n            raise StopIteration\\n        self.n -= 1\\n        self.a, self.b = self.b, self.a + self.b\\n        return self.a\\n\\nfib = Fibonacci(10)\\nprint(list(fib))\\n'"
            ],
            "application/vnd.google.colaboratory.intrinsic+json": {
              "type": "string"
            }
          },
          "metadata": {},
          "execution_count": 27
        }
      ]
    },
    {
      "cell_type": "code",
      "source": [
        "# 6. Write a generator function in Python that yields the powers of 2 up to a given exponent.\n",
        "\"\"\"\n",
        "def power_of_2(n):\n",
        "    for i in range(n + 1):\n",
        "        yield 2**i\n",
        "\n",
        "print(list(power_of_2(5)))\n",
        "\"\"\""
      ],
      "metadata": {
        "colab": {
          "base_uri": "https://localhost:8080/",
          "height": 35
        },
        "id": "qCjiBn1H3pS8",
        "outputId": "fec3fcf7-c584-4853-e916-740ef532429f"
      },
      "execution_count": 28,
      "outputs": [
        {
          "output_type": "execute_result",
          "data": {
            "text/plain": [
              "'\\ndef power_of_2(n):\\n    for i in range(n + 1):\\n        yield 2**i\\n\\nprint(list(power_of_2(5)))\\n'"
            ],
            "application/vnd.google.colaboratory.intrinsic+json": {
              "type": "string"
            }
          },
          "metadata": {},
          "execution_count": 28
        }
      ]
    },
    {
      "cell_type": "code",
      "source": [
        "# 7.  Implement a generator function that reads a file line by line and yields each line as a string.\n",
        "\"\"\"\n",
        "def read_file(filename):\n",
        "    with open(filename, 'r') as f:\n",
        "        for line in f:\n",
        "            yield line.strip()\n",
        "\n",
        "for line in read_file('example.txt'):\n",
        "    print(line)\n",
        "\"\"\""
      ],
      "metadata": {
        "colab": {
          "base_uri": "https://localhost:8080/",
          "height": 53
        },
        "id": "vW4gHsIb36dk",
        "outputId": "ad4b013d-f753-4fcf-d860-bbe69a77b8eb"
      },
      "execution_count": 29,
      "outputs": [
        {
          "output_type": "execute_result",
          "data": {
            "text/plain": [
              "\"\\ndef read_file(filename):\\n    with open(filename, 'r') as f:\\n        for line in f:\\n            yield line.strip()\\n\\nfor line in read_file('example.txt'):\\n    print(line)\\n\""
            ],
            "application/vnd.google.colaboratory.intrinsic+json": {
              "type": "string"
            }
          },
          "metadata": {},
          "execution_count": 29
        }
      ]
    },
    {
      "cell_type": "code",
      "source": [
        "# 8. Use a lambda function in Python to sort a list of tuples based on the second element of each tuple.\n",
        "\"\"\"\n",
        "tuples = [(1, 3), (3, 2), (2, 1)]\n",
        "sorted_tuples = sorted(tuples, key=lambda x: x[1])\n",
        "print(sorted_tuples)\n",
        "\"\"\"\n"
      ],
      "metadata": {
        "colab": {
          "base_uri": "https://localhost:8080/",
          "height": 35
        },
        "id": "pA2dFOS74J4z",
        "outputId": "8d452428-8509-4f7d-c81a-9c0e7685094c"
      },
      "execution_count": 30,
      "outputs": [
        {
          "output_type": "execute_result",
          "data": {
            "text/plain": [
              "'\\ntuples = [(1, 3), (3, 2), (2, 1)]\\nsorted_tuples = sorted(tuples, key=lambda x: x[1])\\nprint(sorted_tuples)\\n'"
            ],
            "application/vnd.google.colaboratory.intrinsic+json": {
              "type": "string"
            }
          },
          "metadata": {},
          "execution_count": 30
        }
      ]
    },
    {
      "cell_type": "code",
      "source": [
        "# 9.Write a Python program that uses `map()` to convert a list of temperatures from Celsius to Fahrenheit.\n",
        "\"\"\"\n",
        "temps = [0, 20, 30]\n",
        "fahrenheit = list(map(lambda x: (x * 9/5) + 32, temps))\n",
        "print(fahrenheit)\n",
        "\"\"\"\n"
      ],
      "metadata": {
        "colab": {
          "base_uri": "https://localhost:8080/",
          "height": 35
        },
        "id": "Hoip-aZP4diB",
        "outputId": "9d68b50a-b3a9-4c24-911e-375bc4f05511"
      },
      "execution_count": 31,
      "outputs": [
        {
          "output_type": "execute_result",
          "data": {
            "text/plain": [
              "'\\ntemps = [0, 20, 30]\\nfahrenheit = list(map(lambda x: (x * 9/5) + 32, temps))\\nprint(fahrenheit)\\n'"
            ],
            "application/vnd.google.colaboratory.intrinsic+json": {
              "type": "string"
            }
          },
          "metadata": {},
          "execution_count": 31
        }
      ]
    },
    {
      "cell_type": "code",
      "source": [
        "# 10. Create a Python program that uses `filter()` to remove all the vowels from a given string.\n",
        "\"\"\"\n",
        "string = \"hello world\"\n",
        "result = \"\".join(filter(lambda x: x.lower() not in \"aeiou\", string))\n",
        "print(result)\n",
        "\"\"\""
      ],
      "metadata": {
        "colab": {
          "base_uri": "https://localhost:8080/",
          "height": 35
        },
        "id": "cVVYf8g6480I",
        "outputId": "b7642b01-8fad-4a76-b839-b985dd468fe4"
      },
      "execution_count": 32,
      "outputs": [
        {
          "output_type": "execute_result",
          "data": {
            "text/plain": [
              "'\\nstring = \"hello world\"\\nresult = \"\".join(filter(lambda x: x.lower() not in \"aeiou\", string))\\nprint(result)\\n'"
            ],
            "application/vnd.google.colaboratory.intrinsic+json": {
              "type": "string"
            }
          },
          "metadata": {},
          "execution_count": 32
        }
      ]
    },
    {
      "cell_type": "code",
      "source": [
        "# Imagine an accounting routine used in a book shop. It works on a list with sublists, which look like this:\n",
        "\"\"\"\n",
        "# Sample list of orders (order_number, price_per_item, quantity)\n",
        "orders = [\n",
        "    (101, 15, 2),   # 15 * 2 = 30 (less than 100, so +10 → 40)\n",
        "    (102, 20, 5),   # 20 * 5 = 100 (no extra charge)\n",
        "    (103, 10, 3),   # 10 * 3 = 30 (less than 100, so +10 → 40)\n",
        "    (104, 50, 2),   # 50 * 2 = 100 (no extra charge)\n",
        "]\n",
        "\n",
        "# Using lambda and map to process orders\n",
        "processed_orders = list(map(lambda x: (x[0], x[1] * x[2] + (10 if x[1] * x[2] < 100 else 0)), orders))\n",
        "\n",
        "# Output the processed orders\n",
        "print(processed_orders)\n",
        "\"\"\""
      ],
      "metadata": {
        "colab": {
          "base_uri": "https://localhost:8080/",
          "height": 87
        },
        "id": "0dYqFOQC5R8d",
        "outputId": "cc978bdd-34a9-4993-c732-e9880ee3ca98"
      },
      "execution_count": 33,
      "outputs": [
        {
          "output_type": "execute_result",
          "data": {
            "text/plain": [
              "'\\n# Sample list of orders (order_number, price_per_item, quantity)\\norders = [\\n    (101, 15, 2),   # 15 * 2 = 30 (less than 100, so +10 → 40)\\n    (102, 20, 5),   # 20 * 5 = 100 (no extra charge)\\n    (103, 10, 3),   # 10 * 3 = 30 (less than 100, so +10 → 40)\\n    (104, 50, 2),   # 50 * 2 = 100 (no extra charge)\\n]\\n\\n# Using lambda and map to process orders\\nprocessed_orders = list(map(lambda x: (x[0], x[1] * x[2] + (10 if x[1] * x[2] < 100 else 0)), orders))\\n\\n# Output the processed orders\\nprint(processed_orders)\\n'"
            ],
            "application/vnd.google.colaboratory.intrinsic+json": {
              "type": "string"
            }
          },
          "metadata": {},
          "execution_count": 33
        }
      ]
    },
    {
      "cell_type": "code",
      "source": [],
      "metadata": {
        "id": "pzvquNml6VTj"
      },
      "execution_count": null,
      "outputs": []
    }
  ]
}